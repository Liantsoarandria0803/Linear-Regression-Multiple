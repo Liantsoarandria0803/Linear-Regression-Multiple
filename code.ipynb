{
 "cells": [
  {
   "cell_type": "code",
   "execution_count": 4,
   "metadata": {},
   "outputs": [],
   "source": [
    "from sklearn.datasets import make_regression\n",
    "import numpy as np\n",
    "import matplotlib.pyplot as plt"
   ]
  },
  {
   "cell_type": "markdown",
   "metadata": {},
   "source": [
    "## Making datasets:\n",
    "### Features : \n",
    "            * Dimension (n,2)\n",
    "### Tragets : \n",
    "             * Dimension(n,)\n",
    "\n",
    "\n",
    "##### avec n= 100\n"
   ]
  },
  {
   "cell_type": "code",
   "execution_count": 53,
   "metadata": {},
   "outputs": [
    {
     "data": {
      "image/png": "[encoded data removed]",
      "text/plain": [
       "<Figure size 640x480 with 1 Axes>"
      ]
     },
     "metadata": {},
     "output_type": "display_data"
    }
   ],
   "source": [
    "np.random.seed(10)\n",
    "x,y=make_regression(n_samples=100,n_features=2,noise=10)\n",
    "plt.scatter(x[:,1],y)\n",
    "plt.show()"
   ]
  },
  {
   "cell_type": "code",
   "execution_count": 54,
   "metadata": {},
   "outputs": [
    {
     "name": "stdout",
     "output_type": "stream",
     "text": [
      "(100, 2)\n",
      "(100,)\n"
     ]
    }
   ],
   "source": [
    "print(x.shape)\n",
    "print(y.shape)\n",
    "y=y.reshape(y.shape[0],1)"
   ]
  },
  {
   "cell_type": "code",
   "execution_count": 65,
   "metadata": {},
   "outputs": [
    {
     "name": "stdout",
     "output_type": "stream",
     "text": [
      "[[1.57559908]\n",
      " [0.23771379]\n",
      " [2.21386943]]\n"
     ]
    }
   ],
   "source": [
    "class RandriaLineaReg:\n",
    "    lossAt=[]\n",
    "    def reshapeFeat(x):\n",
    "        X=np.hstack((x,np.ones((x.shape[0],1))))\n",
    "        return X\n",
    "    theta=np.random.randn(3,1)\n",
    "    print(theta)\n",
    "    def model(X):\n",
    "        return X.dot(RandriaLineaReg.theta)\n",
    "    def grad (X,y):\n",
    "        return (1/len(y)) * X.T.dot(RandriaLineaReg.model(X)-y)\n",
    "    def fit(X,y,learningRate,iteration):\n",
    "        for i in range(iteration):\n",
    "            RandriaLineaReg.theta=RandriaLineaReg.theta - learningRate*(RandriaLineaReg.grad(X,y))\n",
    "            RandriaLineaReg.lossAt.append(RandriaLineaReg.costFunction(RandriaLineaReg.predict(X),y))\n",
    "        print(RandriaLineaReg.theta)\n",
    "    def predict(X):\n",
    "        return RandriaLineaReg.model(X)\n",
    "    def costFunction(model,y):\n",
    "        return (1/y.shape[0])*np.sum((model-y)**2)"
   ]
  },
  {
   "cell_type": "code",
   "execution_count": 66,
   "metadata": {},
   "outputs": [
    {
     "data": {
      "text/plain": [
       "array([[ 1.85406333],\n",
       "       [ 3.20002896],\n",
       "       [ 4.01730498],\n",
       "       [ 0.2297201 ],\n",
       "       [ 1.72877541],\n",
       "       [ 5.75633327],\n",
       "       [ 1.53157587],\n",
       "       [ 1.28014678],\n",
       "       [ 3.05227322],\n",
       "       [ 1.95087774],\n",
       "       [ 3.46314306],\n",
       "       [ 3.58927192],\n",
       "       [ 2.08209729],\n",
       "       [ 0.35190176],\n",
       "       [ 4.48194758],\n",
       "       [ 4.74767517],\n",
       "       [ 4.08138664],\n",
       "       [ 3.86459797],\n",
       "       [ 2.70241186],\n",
       "       [ 4.98295719],\n",
       "       [ 3.29638988],\n",
       "       [ 3.09750029],\n",
       "       [ 1.5556825 ],\n",
       "       [ 5.6860526 ],\n",
       "       [ 2.82661009],\n",
       "       [ 2.55713747],\n",
       "       [-0.01511518],\n",
       "       [ 1.94553517],\n",
       "       [ 3.00731848],\n",
       "       [ 4.47559324],\n",
       "       [ 1.93711014],\n",
       "       [ 1.89128689],\n",
       "       [ 0.37746187],\n",
       "       [ 3.18212367],\n",
       "       [ 1.50091105],\n",
       "       [ 3.52502385],\n",
       "       [ 0.89559521],\n",
       "       [ 3.91689206],\n",
       "       [ 4.29622005],\n",
       "       [ 1.93225844],\n",
       "       [ 2.24177469],\n",
       "       [ 3.22136092],\n",
       "       [ 0.99698396],\n",
       "       [ 3.82650321],\n",
       "       [ 1.22975808],\n",
       "       [ 4.11974788],\n",
       "       [ 3.73028979],\n",
       "       [ 2.2593291 ],\n",
       "       [ 3.06927963],\n",
       "       [ 4.44965566],\n",
       "       [ 1.43755393],\n",
       "       [-0.2230548 ],\n",
       "       [ 1.94914843],\n",
       "       [ 4.3819617 ],\n",
       "       [-1.68658215],\n",
       "       [ 0.48344383],\n",
       "       [ 3.17072257],\n",
       "       [ 2.30977898],\n",
       "       [ 2.72153524],\n",
       "       [ 5.74751123],\n",
       "       [ 2.56350919],\n",
       "       [ 2.02388578],\n",
       "       [ 6.20505496],\n",
       "       [-0.18626361],\n",
       "       [ 2.10898724],\n",
       "       [ 0.87140084],\n",
       "       [-0.76369108],\n",
       "       [ 1.66210639],\n",
       "       [ 3.02167155],\n",
       "       [ 4.33202341],\n",
       "       [ 2.99058097],\n",
       "       [ 4.32185576],\n",
       "       [ 1.61373739],\n",
       "       [ 3.11703485],\n",
       "       [ 5.82636735],\n",
       "       [ 3.55391664],\n",
       "       [ 1.75372747],\n",
       "       [ 1.96023242],\n",
       "       [ 4.01956673],\n",
       "       [ 2.76418006],\n",
       "       [ 0.61737689],\n",
       "       [ 1.60338226],\n",
       "       [ 1.47558014],\n",
       "       [ 2.23043475],\n",
       "       [ 1.7604411 ],\n",
       "       [ 2.6799142 ],\n",
       "       [ 1.58305582],\n",
       "       [ 2.17912613],\n",
       "       [ 2.52345462],\n",
       "       [ 1.63804269],\n",
       "       [-1.31666106],\n",
       "       [ 3.19282388],\n",
       "       [ 0.45516393],\n",
       "       [ 3.14040617],\n",
       "       [ 1.89621036],\n",
       "       [ 0.93774778],\n",
       "       [ 2.65801272],\n",
       "       [ 3.23191082],\n",
       "       [ 1.0287734 ],\n",
       "       [-0.33654126]])"
      ]
     },
     "execution_count": 66,
     "metadata": {},
     "output_type": "execute_result"
    }
   ],
   "source": [
    "X=RandriaLineaReg.reshapeFeat(x)\n",
    "model=RandriaLineaReg.model(X)\n",
    "model"
   ]
  },
  {
   "cell_type": "code",
   "execution_count": 67,
   "metadata": {},
   "outputs": [
    {
     "name": "stdout",
     "output_type": "stream",
     "text": [
      "LOSS : 10456.314962870447\n"
     ]
    }
   ],
   "source": [
    "print(\"LOSS : {}\".format(RandriaLineaReg.costFunction(model,y)))"
   ]
  },
  {
   "cell_type": "markdown",
   "metadata": {},
   "source": [
    "## TRAINNING"
   ]
  },
  {
   "cell_type": "code",
   "execution_count": 68,
   "metadata": {},
   "outputs": [
    {
     "name": "stdout",
     "output_type": "stream",
     "text": [
      "[[84.79379536]\n",
      " [52.15488894]\n",
      " [-0.28606427]]\n"
     ]
    }
   ],
   "source": [
    "RandriaLineaReg.fit(X,y,0.01,1000)"
   ]
  },
  {
   "cell_type": "code",
   "execution_count": 63,
   "metadata": {},
   "outputs": [
    {
     "data": {
      "text/plain": [
       "array([[-1.73948674e+01],\n",
       "       [ 1.46662578e+02],\n",
       "       [ 1.06394885e+02],\n",
       "       [-1.15796970e+02],\n",
       "       [-4.61412760e+01],\n",
       "       [ 2.59037302e+02],\n",
       "       [-9.13052262e+00],\n",
       "       [-3.81831725e+01],\n",
       "       [-3.20989347e+01],\n",
       "       [-2.86955427e+01],\n",
       "       [ 2.67059308e+01],\n",
       "       [ 8.17470984e+01],\n",
       "       [-8.58805853e+01],\n",
       "       [-1.15792392e+02],\n",
       "       [ 1.49929479e+02],\n",
       "       [ 2.33115088e+02],\n",
       "       [ 1.22431803e+02],\n",
       "       [ 9.51169316e+01],\n",
       "       [ 8.10334191e+01],\n",
       "       [ 1.75026920e+02],\n",
       "       [ 1.55103003e+02],\n",
       "       [ 7.33404168e+01],\n",
       "       [-3.01535227e+01],\n",
       "       [ 2.43539031e+02],\n",
       "       [ 5.08316854e+01],\n",
       "       [ 1.12087366e+01],\n",
       "       [-9.58150965e+01],\n",
       "       [-8.98079392e+01],\n",
       "       [ 8.70894715e+01],\n",
       "       [ 1.35061196e+02],\n",
       "       [-4.48549850e+01],\n",
       "       [-3.33966280e+01],\n",
       "       [-1.30526862e+02],\n",
       "       [ 9.91760707e+01],\n",
       "       [-6.98058389e+01],\n",
       "       [ 1.44392283e+01],\n",
       "       [-7.96036376e+01],\n",
       "       [ 6.88512404e+01],\n",
       "       [ 6.92764561e+01],\n",
       "       [ 8.69532821e+00],\n",
       "       [ 1.25949702e+01],\n",
       "       [ 7.76769754e+01],\n",
       "       [-1.17750252e+02],\n",
       "       [ 5.90337719e+01],\n",
       "       [-3.17301552e+01],\n",
       "       [ 1.00057591e+02],\n",
       "       [ 6.97337911e+01],\n",
       "       [-6.15494492e+01],\n",
       "       [ 3.99467018e+01],\n",
       "       [ 1.39462610e+02],\n",
       "       [-9.55698721e+01],\n",
       "       [-1.31763725e+02],\n",
       "       [ 1.88544937e+01],\n",
       "       [ 1.82231313e+02],\n",
       "       [-2.57270132e+02],\n",
       "       [-9.82564241e+01],\n",
       "       [ 3.73978195e+01],\n",
       "       [-1.38663331e+01],\n",
       "       [ 1.88760180e+01],\n",
       "       [ 1.94495959e+02],\n",
       "       [-1.37984447e-03],\n",
       "       [-2.94350599e+01],\n",
       "       [ 2.50619903e+02],\n",
       "       [-1.56178308e+02],\n",
       "       [ 3.30011749e+01],\n",
       "       [-5.40432730e+01],\n",
       "       [-1.69297853e+02],\n",
       "       [-5.16020336e+01],\n",
       "       [ 1.48434416e+01],\n",
       "       [ 1.14860038e+02],\n",
       "       [-7.57682049e+01],\n",
       "       [ 1.20835239e+02],\n",
       "       [-3.73817341e+01],\n",
       "       [ 6.46269711e+01],\n",
       "       [ 1.65024857e+02],\n",
       "       [ 1.07975814e+02],\n",
       "       [-1.27619034e+01],\n",
       "       [-3.47700770e+01],\n",
       "       [ 6.80792686e+01],\n",
       "       [ 1.60401047e+01],\n",
       "       [-1.05465512e+02],\n",
       "       [-1.17048631e+02],\n",
       "       [-3.64921667e+01],\n",
       "       [ 1.60880415e+01],\n",
       "       [ 6.08391568e+00],\n",
       "       [ 4.23164208e+01],\n",
       "       [-7.86956701e+01],\n",
       "       [-9.02843033e+00],\n",
       "       [-3.89295247e+00],\n",
       "       [-4.50078937e+01],\n",
       "       [-2.58910481e+02],\n",
       "       [ 1.15944214e+02],\n",
       "       [-8.96148768e+01],\n",
       "       [ 1.85889087e+01],\n",
       "       [ 3.20244159e+01],\n",
       "       [-2.84882265e+01],\n",
       "       [ 2.78889963e+01],\n",
       "       [ 8.37859106e+01],\n",
       "       [-7.43321406e+01],\n",
       "       [-1.13440079e+02]])"
      ]
     },
     "execution_count": 63,
     "metadata": {},
     "output_type": "execute_result"
    }
   ],
   "source": [
    "ypred=RandriaLineaReg.predict(X)\n",
    "ypred"
   ]
  },
  {
   "cell_type": "markdown",
   "metadata": {},
   "source": [
    "#### LOSS AFTER TRAINNING"
   ]
  },
  {
   "cell_type": "code",
   "execution_count": 69,
   "metadata": {},
   "outputs": [
    {
     "name": "stdout",
     "output_type": "stream",
     "text": [
      "LOSS : 80.7041521951798\n"
     ]
    }
   ],
   "source": [
    "print(\"LOSS : {}\".format(RandriaLineaReg.costFunction(ypred,y)))"
   ]
  },
  {
   "cell_type": "code",
   "execution_count": 70,
   "metadata": {},
   "outputs": [
    {
     "data": {
      "image/png": "[encoded data removed]",
      "text/plain": [
       "<Figure size 640x480 with 1 Axes>"
      ]
     },
     "metadata": {},
     "output_type": "display_data"
    }
   ],
   "source": [
    "plt.plot(RandriaLineaReg.lossAt)\n",
    "plt.show()"
   ]
  },
  {
   "cell_type": "code",
   "execution_count": null,
   "metadata": {},
   "outputs": [],
   "source": []
  }
 ],
 "metadata": {
  "kernelspec": {
   "display_name": "Python 3",
   "language": "python",
   "name": "python3"
  },
  "language_info": {
   "codemirror_mode": {
    "name": "ipython",
    "version": 3
   },
   "file_extension": ".py",
   "mimetype": "text/x-python",
   "name": "python",
   "nbconvert_exporter": "python",
   "pygments_lexer": "ipython3",
   "version": "3.10.12"
  }
 },
 "nbformat": 4,
 "nbformat_minor": 2
}
